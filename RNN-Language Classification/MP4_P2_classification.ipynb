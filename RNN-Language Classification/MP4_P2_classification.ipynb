{
 "cells": [
  {
   "cell_type": "code",
   "execution_count": 0,
   "metadata": {
    "colab": {},
    "colab_type": "code",
    "collapsed": true,
    "id": "K4ZvPJvexX5D"
   },
   "outputs": [],
   "source": [
    "import os\n",
    "import time\n",
    "import math\n",
    "import glob\n",
    "import string\n",
    "import random \n",
    "\n",
    "import torch\n",
    "import torch.nn as nn\n",
    "\n",
    "from rnn.helpers import time_since\n",
    "\n",
    "%matplotlib inline"
   ]
  },
  {
   "cell_type": "code",
   "execution_count": 2,
   "metadata": {
    "colab": {
     "base_uri": "https://localhost:8080/",
     "height": 121
    },
    "colab_type": "code",
    "executionInfo": {
     "elapsed": 132094,
     "status": "ok",
     "timestamp": 1543853608180,
     "user": {
      "displayName": "Kashish Kothari",
      "photoUrl": "",
      "userId": "05131196928554536929"
     },
     "user_tz": 360
    },
    "id": "Wu7TWeFR_aKx",
    "outputId": "ac90cac1-caba-4df2-ebf2-098758932848"
   },
   "outputs": [
    {
     "name": "stdout",
     "output_type": "stream",
     "text": [
      "Go to this URL in a browser: https://accounts.google.com/o/oauth2/auth?client_id=947318989803-6bn6qk8qdgf4n4g3pfee6491hc0brc4i.apps.googleusercontent.com&redirect_uri=urn%3Aietf%3Awg%3Aoauth%3A2.0%3Aoob&scope=email%20https%3A%2F%2Fwww.googleapis.com%2Fauth%2Fdocs.test%20https%3A%2F%2Fwww.googleapis.com%2Fauth%2Fdrive%20https%3A%2F%2Fwww.googleapis.com%2Fauth%2Fdrive.photos.readonly%20https%3A%2F%2Fwww.googleapis.com%2Fauth%2Fpeopleapi.readonly&response_type=code\n",
      "\n",
      "Enter your authorization code:\n",
      "··········\n",
      "Mounted at /content/gdrive\n"
     ]
    }
   ],
   "source": [
    "from google.colab import drive\n",
    "drive.mount('/content/gdrive')"
   ]
  },
  {
   "cell_type": "code",
   "execution_count": 0,
   "metadata": {
    "colab": {},
    "colab_type": "code",
    "collapsed": true,
    "id": "8IURigKo_a_Y"
   },
   "outputs": [],
   "source": [
    "import os\n",
    "os.chdir(\"gdrive/My Drive/MP-1/Assignment4\")"
   ]
  },
  {
   "cell_type": "code",
   "execution_count": 0,
   "metadata": {
    "colab": {},
    "colab_type": "code",
    "collapsed": true,
    "id": "ARgqcm1NxX5J"
   },
   "outputs": [],
   "source": [
    "device = torch.device(\"cuda:0\" if torch.cuda.is_available() else \"cpu\")"
   ]
  },
  {
   "cell_type": "markdown",
   "metadata": {
    "colab_type": "text",
    "id": "KVT2w5kwxX5M"
   },
   "source": [
    "# Language recognition with an RNN\n",
    "\n",
    "If you've ever used an online translator you've probably seen a feature that automatically detects the input language. While this might be easy to do if you input unicode characters that are unique to one or a small group of languages (like \"你好\" or \"γεια σας\"), this problem is more challenging if the input only uses the available ASCII characters. In this case, something like \"těší mě\" would beome \"tesi me\" in the ascii form. This is a more challenging problem in which the language must be recognized purely by the pattern of characters rather than unique unicode characters.\n",
    "\n",
    "We will train an RNN to solve this problem for a small set of languages thta can be converted to romanized ASCII form. For training data it would be ideal to have a large and varied dataset in different language styles. However, it is easy to find copies of the Bible which is a large text translated to different languages but in the same easily parsable format, so we will use 20 different copies of the Bible as training data. Using the same book for all of the different languages will hopefully prevent minor overfitting that might arise if we used different books for each language (fitting to common characteristics of the individual books rather than the language)."
   ]
  },
  {
   "cell_type": "code",
   "execution_count": 8,
   "metadata": {
    "colab": {
     "base_uri": "https://localhost:8080/",
     "height": 34
    },
    "colab_type": "code",
    "executionInfo": {
     "elapsed": 188629,
     "status": "ok",
     "timestamp": 1543853711371,
     "user": {
      "displayName": "Kashish Kothari",
      "photoUrl": "",
      "userId": "05131196928554536929"
     },
     "user_tz": 360
    },
    "id": "nqJN9m7NxX5N",
    "outputId": "367c21a6-fc28-4317-b52d-38087740f33c"
   },
   "outputs": [
    {
     "name": "stdout",
     "output_type": "stream",
     "text": [
      "tesi me\n"
     ]
    }
   ],
   "source": [
    "from unidecode import unidecode as unicodeToAscii\n",
    "\n",
    "all_characters = string.printable\n",
    "n_letters = len(all_characters)\n",
    "\n",
    "print(unicodeToAscii('těší mě'))"
   ]
  },
  {
   "cell_type": "code",
   "execution_count": 0,
   "metadata": {
    "colab": {},
    "colab_type": "code",
    "collapsed": true,
    "id": "dZIoa5iSxX5Q"
   },
   "outputs": [],
   "source": [
    "# Read a file and split into lines\n",
    "def readFile(filename):\n",
    "    data = open(filename, encoding='utf-8').read().strip()\n",
    "    return unicodeToAscii(data)\n",
    "\n",
    "def get_category_data(data_path):\n",
    "    # Build the category_data dictionary, a list of names per language\n",
    "    category_data = {}\n",
    "    all_categories = []\n",
    "    for filename in glob.glob(data_path):\n",
    "        category = os.path.splitext(os.path.basename(filename))[0].split('_')[0]\n",
    "        all_categories.append(category)\n",
    "        data = readFile(filename)\n",
    "        category_data[category] = data\n",
    "    \n",
    "    return category_data, all_categories"
   ]
  },
  {
   "cell_type": "markdown",
   "metadata": {
    "colab_type": "text",
    "id": "T2iGQ84_xX5V"
   },
   "source": [
    "The original text is split into two parts, train and test, so that we can make sure that the model is not simply memorizing the train data."
   ]
  },
  {
   "cell_type": "code",
   "execution_count": 10,
   "metadata": {
    "colab": {
     "base_uri": "https://localhost:8080/",
     "height": 70
    },
    "colab_type": "code",
    "executionInfo": {
     "elapsed": 220926,
     "status": "ok",
     "timestamp": 1543853750370,
     "user": {
      "displayName": "Kashish Kothari",
      "photoUrl": "",
      "userId": "05131196928554536929"
     },
     "user_tz": 360
    },
    "id": "3ayJ4SyxxX5X",
    "outputId": "01ab8652-da32-4cad-f379-7db77db59e49"
   },
   "outputs": [
    {
     "name": "stdout",
     "output_type": "stream",
     "text": [
      "20\n",
      "['albanian', 'english', 'czech', 'danish', 'esperanto', 'finnish', 'french', 'german', 'hungarian', 'italian', 'lithuanian', 'maori', 'norwegian', 'portuguese', 'romanian', 'spanish', 'swedish', 'turkish', 'vietnamese', 'xhosa']\n"
     ]
    }
   ],
   "source": [
    "train_data_path = 'language_data/train/*_train.txt'\n",
    "test_data_path = 'language_data/test/*_test.txt'\n",
    "\n",
    "train_category_data, all_categories = get_category_data(train_data_path)\n",
    "test_category_data, test_all_categories = get_category_data(test_data_path)\n",
    "\n",
    "n_languages = len(all_categories)\n",
    "\n",
    "print(len(all_categories))\n",
    "print(all_categories)"
   ]
  },
  {
   "cell_type": "markdown",
   "metadata": {
    "colab_type": "text",
    "id": "h1HR2L9wxX5b"
   },
   "source": [
    "# Data processing"
   ]
  },
  {
   "cell_type": "code",
   "execution_count": 0,
   "metadata": {
    "colab": {},
    "colab_type": "code",
    "collapsed": true,
    "id": "Gz-cNlWoxX5d"
   },
   "outputs": [],
   "source": [
    "def categoryFromOutput(output):\n",
    "    top_n, top_i = output.topk(1, dim=1)\n",
    "    category_i = top_i[:, 0]\n",
    "    return category_i\n",
    "\n",
    "# Turn string into long tensor\n",
    "def stringToTensor(string):\n",
    "    tensor = torch.zeros(len(string), requires_grad=True).long()\n",
    "    for c in range(len(string)):\n",
    "        tensor[c] = all_characters.index(string[c])\n",
    "    return tensor\n",
    "\n",
    "def load_random_batch(text, chunk_len, batch_size):\n",
    "    input_data = torch.zeros(batch_size, chunk_len).long().to(device)\n",
    "    target = torch.zeros(batch_size, 1).long().to(device)\n",
    "    input_text = []\n",
    "    for i in range(batch_size):\n",
    "        category = all_categories[random.randint(0, len(all_categories) - 1)]\n",
    "        line_start = random.randint(0, len(text[category])-chunk_len)\n",
    "        category_tensor = torch.tensor([all_categories.index(category)], dtype=torch.long)\n",
    "        line = text[category][line_start:line_start+chunk_len]\n",
    "        input_text.append(line)\n",
    "        input_data[i] = stringToTensor(line)\n",
    "        target[i] = category_tensor\n",
    "    return input_data, target, input_text"
   ]
  },
  {
   "cell_type": "markdown",
   "metadata": {
    "colab_type": "text",
    "id": "Aa5g7SRFxX5g"
   },
   "source": [
    "Implement Model\n",
    "====================\n",
    "\n",
    "For this classification task, we can use the same model we implement for the generation task which is located in `rnn/model.py`. See the `MP4_P2_generation.ipynb` notebook for more instructions. In this case each output vector of our RNN will have the dimension of the number of possible languages (i.e. `n_languages`). We will use this vector to predict a distribution over the languages.\n",
    "\n",
    "In the generation task, we used the output of the RNN at every time step to predict the next letter and our loss included the output from each of these predictions. However, in this task we use the output of the RNN at the end of the sequence to predict the language, so our loss function will use only the predicted output from the last time step.\n",
    "\n"
   ]
  },
  {
   "cell_type": "markdown",
   "metadata": {
    "colab_type": "text",
    "id": "JA5GBdfSxX5i"
   },
   "source": [
    "# Train RNN"
   ]
  },
  {
   "cell_type": "code",
   "execution_count": 0,
   "metadata": {
    "colab": {},
    "colab_type": "code",
    "collapsed": true,
    "id": "RvqeKt-lxX5j"
   },
   "outputs": [],
   "source": [
    "from rnn.model import RNN"
   ]
  },
  {
   "cell_type": "code",
   "execution_count": 0,
   "metadata": {
    "colab": {},
    "colab_type": "code",
    "collapsed": true,
    "id": "CB8Qtxz6xX5q"
   },
   "outputs": [],
   "source": [
    "chunk_len = 50\n",
    "\n",
    "BATCH_SIZE = 100\n",
    "n_epochs = 7000\n",
    "hidden_size = 150\n",
    "n_layers = 3\n",
    "learning_rate = 0.0001\n",
    "model_type = 'lstm'\n",
    "\n",
    "criterion = nn.CrossEntropyLoss()\n",
    "rnn = RNN(n_letters, hidden_size, n_languages, model_type=model_type, n_layers=n_layers).to(device)"
   ]
  },
  {
   "cell_type": "markdown",
   "metadata": {
    "colab_type": "text",
    "id": "ObCaW9hExX5v"
   },
   "source": [
    "**TODO:** Fill in the train function. You should initialize a hidden layer representation using your RNN's `init_hidden` function, set the model gradients to zero, and loop over each time step (character) in the input tensor. For each time step compute the output of the of the RNN and the next hidden layer representation. The cross entropy loss should be computed over the last RNN output scores from the end of the sequence and the target classification tensor. Lastly, call backward on the loss and take an optimizer step."
   ]
  },
  {
   "cell_type": "code",
   "execution_count": 0,
   "metadata": {
    "colab": {},
    "colab_type": "code",
    "collapsed": true,
    "id": "lpbcPME_xX5w"
   },
   "outputs": [],
   "source": [
    "def train(rnn, target_tensor, data_tensor, optimizer, criterion, batch_size=BATCH_SIZE):\n",
    "    \"\"\"\n",
    "    Inputs:\n",
    "    - rnn: model\n",
    "    - target_target: target character data tensor of shape (batch_size, 1)\n",
    "    - data_tensor: input character data tensor of shape (batch_size, chunk_len)\n",
    "    - optimizer: rnn model optimizer\n",
    "    - criterion: loss function\n",
    "    - batch_size: data batch size\n",
    "    \n",
    "    Returns:\n",
    "    - output: output from RNN from end of sequence \n",
    "    - loss: computed loss value as python float\n",
    "    \n",
    "    \"\"\"\n",
    "    \n",
    "    output, loss = None, None\n",
    "    hidden=rnn.init_hidden(data_tensor.size(0))\n",
    "    rnn.zero_grad()\n",
    "    for i in range(data_tensor.size(1)):\n",
    "      output,hidden= rnn(data_tensor[:,i], hidden)\n",
    "      \n",
    "    #loss += criterion(output.reshape(input.size(0), -1), target[:,i])\n",
    "    \n",
    "    #one_hot=torch.LongTensor(output.size(0),output.size(1)).zero_()\n",
    "    #target = one_hot.scatter_(1, target_tensor.data, 1)\n",
    "    #print(target)\n",
    "    loss= criterion(output, target_tensor.squeeze(1))\n",
    "    #print(loss)\n",
    "    loss.backward()\n",
    "    optimizer.step()\n",
    "    #print(loss)\n",
    "    #loss=loss.data[0]/data_tensor.size(0)\n",
    "    loss=loss.item()\n",
    "    ####################################\n",
    "    #          YOUR CODE HERE          #\n",
    "    ####################################\n",
    "    \n",
    "    \n",
    "    ##########       END      ##########\n",
    "\n",
    "    return output, loss\n",
    "    "
   ]
  },
  {
   "cell_type": "code",
   "execution_count": 0,
   "metadata": {
    "colab": {},
    "colab_type": "code",
    "collapsed": true,
    "id": "7HPBzWUQxX53"
   },
   "outputs": [],
   "source": [
    "def evaluate(rnn, data_tensor, seq_len=chunk_len, batch_size=BATCH_SIZE):\n",
    "    with torch.no_grad():\n",
    "        data_tensor = data_tensor.to(device)\n",
    "        hidden = rnn.init_hidden(batch_size, device=device)\n",
    "        for i in range(seq_len):\n",
    "            output, hidden = rnn(data_tensor[:,i], hidden)\n",
    "        \n",
    "        return output\n",
    "    \n",
    "def eval_test(rnn, category_tensor, data_tensor):\n",
    "    with torch.no_grad():\n",
    "        output = evaluate(rnn, data_tensor)\n",
    "        loss = criterion(output, category_tensor.squeeze())\n",
    "        return output, loss.item()"
   ]
  },
  {
   "cell_type": "markdown",
   "metadata": {},
   "source": [
    "I have saved the model after a few epochs. Again run it on previously saved model."
   ]
  },
  {
   "cell_type": "code",
   "execution_count": 19,
   "metadata": {
    "colab": {
     "base_uri": "https://localhost:8080/",
     "height": 3733
    },
    "colab_type": "code",
    "executionInfo": {
     "elapsed": 5783299,
     "status": "ok",
     "timestamp": 1543867888585,
     "user": {
      "displayName": "Kashish Kothari",
      "photoUrl": "",
      "userId": "05131196928554536929"
     },
     "user_tz": 360
    },
    "id": "Y-ATT-SExX57",
    "outputId": "cd2d6887-03e9-4367-e475-b9176c6bcadc",
    "scrolled": true
   },
   "outputs": [
    {
     "name": "stdout",
     "output_type": "stream",
     "text": [
      "50 0% (0m 53s) 0.1952 0.1132 qu'elle enfanta a Jacob, a Paddan-Aram, avec Dina  / spanish ✗ (french)\n",
      "Train accuracy: 0.932\n",
      "100 1% (1m 45s) 0.0970 0.2166 tri mil kvarcent. La filoj de Naftali laux iliaj f / esperanto ✓\n",
      "Train accuracy: 0.9362\n",
      "150 2% (2m 38s) 0.1005 0.1488 asa a fost. Dumnezeu a facut fiarele pamintului du / romanian ✓\n",
      "Train accuracy: 0.9414\n",
      "200 3% (3m 31s) 0.1907 0.2242 ore] have we afflicted our soul, and thou takest n / english ✓\n",
      "Train accuracy: 0.9376\n",
      "250 4% (4m 24s) 0.3100 0.3393 r flydler med Maelk og Honning, det dejligste af a / danish ✓\n",
      "Train accuracy: 0.9482\n",
      "300 5% (5m 17s) 0.0992 0.1768  schlief im Tempel des HERRN, wo die Lade Gottes w / german ✓\n",
      "Train accuracy: 0.9458\n",
      "350 6% (6m 10s) 0.1265 0.2171 ai scoale!`` Despre Beniamin a zis: ,,El este prea / romanian ✓\n",
      "Train accuracy: 0.9388\n",
      "400 7% (7m 3s) 0.2040 0.2594  muchos pueblos; y volveran sus espadas en rejas d / spanish ✓\n",
      "Train accuracy: 0.9384\n",
      "450 8% (7m 55s) 0.1517 0.2021 d og tilbad. Derpa bod Kong Ezekias og Oversterne  / danish ✓\n",
      "Train accuracy: 0.9444\n",
      "500 9% (8m 48s) 0.1388 0.1214 ratou, a kahore e rongo: kahore ano he manawa i o  / maori ✓\n",
      "Train accuracy: 0.944\n",
      "550 10% (9m 40s) 0.1437 0.2078 nd falle. Und die Agypter will ich unter die Heide / german ✓\n",
      "Train accuracy: 0.9474\n",
      "600 10% (10m 33s) 0.1715 0.1954 sacak,<br />Onun onunde krallarin agizlari kapanac / turkish ✓\n",
      "Train accuracy: 0.9444\n",
      "650 11% (11m 26s) 0.3335 0.2010 e lucru impotriva voastra.` David si tot poporul c / romanian ✓\n",
      "Train accuracy: 0.945\n",
      "700 12% (12m 19s) 0.1916 0.1772 d'oro il pavimento della casa. All'ingresso del sa / italian ✓\n",
      "Train accuracy: 0.9446\n",
      "750 13% (13m 11s) 0.1049 0.1928 y speech distilled upon them. And they waited for  / english ✓\n",
      "Train accuracy: 0.9432\n",
      "800 14% (14m 3s) 0.1269 0.3408 sprit immonde. Ses freres et sa mere arriverent do / french ✓\n",
      "Train accuracy: 0.9442\n",
      "850 15% (14m 56s) 0.2349 0.2925 ed Johxanan, filo de Kareahx, kaj cxiuj militestro / esperanto ✓\n",
      "Train accuracy: 0.9428\n",
      "900 16% (15m 48s) 0.0731 0.2384 e seapte ori.`` Si Domnul a hotarit un semn pentru / romanian ✓\n",
      "Train accuracy: 0.9526\n",
      "950 17% (16m 41s) 0.0826 0.1383 kiujn Moseo faris antaux la okuloj de la tuta Izra / esperanto ✓\n",
      "Train accuracy: 0.9532\n",
      "1000 18% (17m 33s) 0.1767 0.2967 efter sitt billede; og han kalte ham Set. Og efter / danish ✗ (norwegian)\n",
      "Train accuracy: 0.9492\n",
      "1050 19% (18m 25s) 0.1200 0.2147 sta paha mellakka. Kaupungissa oli Demetrios- nimi / finnish ✓\n",
      "Train accuracy: 0.9486\n",
      "1100 20% (19m 18s) 0.1047 0.0988 ke strax till jorden?  Jag skulle da garna hava gi / swedish ✓\n",
      "Train accuracy: 0.954\n",
      "1150 20% (20m 11s) 0.1748 0.1308 uj homoj ektimis per granda timo, kaj diris al li: / esperanto ✓\n",
      "Train accuracy: 0.95\n",
      "1200 21% (21m 3s) 0.1912 0.0837 a, va raminea incremenit, si va zice: ,Pentruce a  / romanian ✓\n",
      "Train accuracy: 0.9478\n",
      "1250 22% (21m 56s) 0.1717 0.1110 i moabitai verks ir raudos. Jie verks ir liudes de / lithuanian ✓\n",
      "Train accuracy: 0.9502\n",
      "1300 23% (22m 48s) 0.0957 0.1678 vetett kegyetlenseg [buntetese,] es szalljon az o  / hungarian ✓\n",
      "Train accuracy: 0.9536\n",
      "1350 24% (23m 41s) 0.1628 0.2272  And Shimei the son of Gera fell down before the k / english ✓\n",
      "Train accuracy: 0.9454\n",
      "1400 25% (24m 33s) 0.0851 0.0659 ch hade med sig tio man, och de slogo ihjal Gedalj / swedish ✓\n",
      "Train accuracy: 0.958\n",
      "1450 26% (25m 26s) 0.0751 0.2687  Og veg sa vaeldige Konger; thi hans Miskundhed va / danish ✓\n",
      "Train accuracy: 0.9518\n",
      "1500 27% (26m 19s) 0.1432 0.1111 onsulu, zydai visi kaip vienas sukilo pries Pauliu / lithuanian ✓\n",
      "Train accuracy: 0.9522\n",
      "1550 28% (27m 11s) 0.1171 0.1699 oudatti varoitusta, ja myos sina pelastat elamasi. / finnish ✓\n",
      "Train accuracy: 0.9498\n",
      "1600 29% (28m 3s) 0.1457 0.1844 anoah: \"Anche se tu mi trattenessi, non mangerei d / italian ✓\n",
      "Train accuracy: 0.9486\n",
      "1650 30% (28m 55s) 0.1403 0.1424 !\" Mutta mina, Herra, kayn oikeutta sinua vastaan, / finnish ✓\n",
      "Train accuracy: 0.952\n",
      "1700 30% (29m 48s) 0.1742 0.0842 ini bile anmiyordun. Simdi sen de Edom kizlariyla  / turkish ✓\n",
      "Train accuracy: 0.9576\n",
      "1750 31% (30m 41s) 0.0938 0.2853 o Viespaties namus, karaliaus namus ir visus didel / lithuanian ✓\n",
      "Train accuracy: 0.9504\n",
      "1800 32% (31m 33s) 0.1912 0.1547 kaara ki runga ki oku turi, ki runga hoki i nga ka / maori ✓\n",
      "Train accuracy: 0.9554\n",
      "1850 33% (32m 25s) 0.1754 0.0630 rete lo stesso giorno col suo parto. Quando offrir / italian ✓\n",
      "Train accuracy: 0.9562\n",
      "1900 34% (33m 18s) 0.0850 0.1650  szive, es fuleikkel nehezen hallanak, es szemeike / hungarian ✓\n",
      "Train accuracy: 0.9608\n",
      "1950 35% (34m 10s) 0.1076 0.1300 mo dia el se lo declaro, porque le constrino; y el / spanish ✓\n",
      "Train accuracy: 0.9576\n",
      "2000 36% (35m 2s) 0.1791 0.2052 ye umfazi. Ngoko eluvukweni, uya kuba ngumfazi waw / xhosa ✓\n",
      "Train accuracy: 0.9564\n",
      "2050 37% (35m 54s) 0.1443 0.1507 tada jis apiples jo namus. Kas ne su manimi, tas p / lithuanian ✓\n",
      "Train accuracy: 0.9536\n",
      "2100 38% (36m 47s) 0.0752 0.1389 zda ctyri kridla. Nohy mely rovne, ale chodidla by / czech ✓\n",
      "Train accuracy: 0.9604\n",
      "2150 39% (37m 40s) 0.1425 0.1444 en estambre, o en trama, o en cualquiera obra de p / portuguese ✗ (spanish)\n",
      "Train accuracy: 0.9538\n",
      "2200 40% (38m 33s) 0.1313 0.1551 ati un sanctuaire pour ton nom, en disant: S'il no / french ✓\n",
      "Train accuracy: 0.9616\n",
      "2250 40% (39m 25s) 0.1414 0.1793 o bem, o Senhor, aos bons e aos que sao retos de c / portuguese ✓\n",
      "Train accuracy: 0.9604\n",
      "2300 41% (40m 17s) 0.1623 0.1829 egou nas nossas maos a tropa que vinha contra nos. / portuguese ✓\n",
      "Train accuracy: 0.9534\n",
      "2350 42% (41m 10s) 0.0516 0.1667 bet tutardi. Toplam 172 kisiydiler. Israillilerin  / turkish ✓\n",
      "Train accuracy: 0.956\n",
      "2400 43% (42m 2s) 0.1804 0.1466 vsemi pronarody, a prijdou s tim nejvzacnejsim, co / czech ✓\n",
      "Train accuracy: 0.956\n",
      "2450 44% (42m 55s) 0.1126 0.2124 nd sprach: Also hat mir der Herr getan in den Tage / german ✓\n",
      "Train accuracy: 0.9578\n",
      "2500 45% (43m 47s) 0.0481 0.0747 nga mare linga Pi-Hahirot, fata in fata cu Baal-Te / romanian ✓\n",
      "Train accuracy: 0.9524\n",
      "2550 46% (44m 39s) 0.1050 0.1703 i geri donmez,<br />Yasam yollarina erismez. Bu ne / turkish ✓\n",
      "Train accuracy: 0.9608\n",
      "2600 47% (45m 32s) 0.0718 0.0293 oti e goditi Nabalin dhe ai vdiq. Kur mesoi qe Nab / albanian ✓\n",
      "Train accuracy: 0.9622\n",
      "2650 48% (46m 24s) 0.1362 0.1012 hova ngokubhekisele kukumkani waseAsiriya, ukuthi, / xhosa ✓\n",
      "Train accuracy: 0.962\n",
      "2700 49% (47m 17s) 0.1063 0.0843 c pour lui ces terres-la, toi et tes fils et tes s / french ✓\n",
      "Train accuracy: 0.9574\n",
      "2750 50% (48m 9s) 0.2365 0.1258 ene du tar for folk. Men Ga'al sa atter: Jo, det k / norwegian ✓\n",
      "Train accuracy: 0.9594\n",
      "2800 50% (49m 2s) 0.1558 0.1031 r seinen Bund aufrechterhalte, den er deinen Vater / german ✓\n",
      "Train accuracy: 0.9626\n",
      "2850 51% (49m 54s) 0.0712 0.1234 ttigini krala anlatirken, oglu diriltilen kadin ev / turkish ✓\n",
      "Train accuracy: 0.9626\n",
      "2900 52% (50m 46s) 0.0775 0.1486 Leben lang in Zelten wohnen, auf dass ihr lange le / german ✓\n",
      "Train accuracy: 0.9614\n",
      "2950 53% (51m 38s) 0.0445 0.1275 ir mano tevo namus\". Ta diena Gadas atejo pas Dovy / lithuanian ✓\n",
      "Train accuracy: 0.9586\n",
      "3000 54% (52m 30s) 0.0299 0.1400 herche la loi; car il est le messager de l'Eternel / french ✓\n",
      "Train accuracy: 0.9632\n",
      "3050 55% (53m 23s) 0.1137 0.1240 escendio a lavarse al rio, y paseandose sus doncel / spanish ✓\n",
      "Train accuracy: 0.9666\n",
      "3100 56% (54m 15s) 0.0755 0.0857 uoi cho ta mot mieng banh nua. Nang dap: Toi chi m / vietnamese ✓\n",
      "Train accuracy: 0.9554\n",
      "3150 57% (55m 8s) 0.0952 0.1319 sman med femtio man.  Och nar denne kom upp till h / swedish ✓\n",
      "Train accuracy: 0.9602\n",
      "3200 58% (56m 1s) 0.0480 0.2877 n Israel sprach: Einen Propheten wird euch der Her / german ✓\n",
      "Train accuracy: 0.9614\n",
      "3250 59% (56m 53s) 0.1233 0.2315 th-Moab fiai, Jesua es Joab fiaitol: ketezernyolcz / hungarian ✓\n",
      "Train accuracy: 0.9632\n",
      "3300 60% (57m 46s) 0.0971 0.0544 ere la Eternulo savis HXizkijan kaj la logxantojn  / esperanto ✓\n",
      "Train accuracy: 0.9602\n",
      "3350 60% (58m 38s) 0.1518 0.2424 a zonke; vulani amaqonga alo;  lifumbeni ngokwezid / xhosa ✓\n",
      "Train accuracy: 0.957\n",
      "3400 61% (59m 31s) 0.0614 0.0526 Nop bi lua doi; nhung nguoi lam hon da goc cua cac / vietnamese ✓\n",
      "Train accuracy: 0.9664\n",
      "3450 62% (60m 23s) 0.0376 0.1434 yo ngemizi, Ndiya kusukela phezulu kubo, utsho uYe / xhosa ✓\n",
      "Train accuracy: 0.9734\n",
      "3500 63% (61m 16s) 0.0914 0.0795  ke mi havis la forton, por oferi tiom? de Vi esta / esperanto ✓\n",
      "Train accuracy: 0.9592\n",
      "3550 64% (62m 9s) 0.0873 0.1095 fa soning for det blod som utoses der, uten ved de / norwegian ✓\n",
      "Train accuracy: 0.9672\n",
      "3600 65% (63m 1s) 0.1153 0.1548 rde og sagde, at Ovnen skulde gores syv Gange hede / danish ✓\n",
      "Train accuracy: 0.967\n",
      "3650 66% (63m 54s) 0.0631 0.0942 oveho dreva, aby se daly postavit. Kazda deska byl / czech ✓\n",
      "Train accuracy: 0.9668\n",
      "3700 67% (64m 46s) 0.1652 0.1830 ur, et y etant entre, il s'assit avec les valets p / french ✓\n",
      "Train accuracy: 0.9618\n",
      "3750 68% (65m 39s) 0.1315 0.1421  at svardet, sager HERREN. Sa sager HERREN Sebaot: / swedish ✓\n",
      "Train accuracy: 0.9654\n",
      "3800 69% (66m 31s) 0.0998 0.1144 os mundur te gjeje ne copat e tij qofte edhe nje c / albanian ✓\n",
      "Train accuracy: 0.964\n",
      "3850 70% (67m 24s) 0.0547 0.2267 sios dienos. Skrynioje buvo tik dvi akmenines plok / lithuanian ✓\n",
      "Train accuracy: 0.972\n",
      "3900 70% (68m 17s) 0.1375 0.0570 ofet, sa vi kunde sporre Herren til rads gjennem h / norwegian ✓\n",
      "Train accuracy: 0.9654\n",
      "3950 71% (69m 9s) 0.1997 0.0776 apaea a ratou whakahere ki a Ihowa, i te koraha o  / maori ✓\n",
      "Train accuracy: 0.954\n",
      "4000 72% (70m 2s) 0.1135 0.0817  de kom til Bileam, overbragte de ham Balaks Ord.  / danish ✓\n",
      "Train accuracy: 0.9656\n",
      "4050 73% (70m 55s) 0.0813 0.1148 helyt ez halla, felkele hamar es hozza mene. Jezus / hungarian ✓\n",
      "Train accuracy: 0.964\n",
      "4100 74% (71m 48s) 0.1400 0.0876 i vart sarskilt hovdingdome ett pabud, oppet for a / norwegian ✗ (swedish)\n",
      "Train accuracy: 0.9672\n",
      "4150 75% (72m 41s) 0.1655 0.0785 imali ezisiweyo endlwini kaYehova, abayilulanganis / xhosa ✓\n",
      "Train accuracy: 0.9624\n",
      "4200 76% (73m 33s) 0.1407 0.0850 siu tikrus namus, kaip pastaciau Dovydui, ir tau d / lithuanian ✓\n",
      "Train accuracy: 0.9656\n",
      "4250 77% (74m 26s) 0.2012 0.1528 ana, kihai hoki i nohinohi nga utu i tika mai i ta / maori ✓\n",
      "Train accuracy: 0.9684\n",
      "4300 78% (75m 19s) 0.0745 0.1264 ek? Ott a gonoszok megszunnek a fenyegetestol, es  / hungarian ✓\n",
      "Train accuracy: 0.9688\n",
      "4350 79% (76m 11s) 0.1141 0.1004 umkhiwane untshwenyile, nomrharnate,  kwanamasundu / xhosa ✓\n",
      "Train accuracy: 0.9698\n",
      "4400 80% (77m 4s) 0.0778 0.1737 ovi celkovy soucet lidu: Vseho Izraele bylo jeden  / czech ✓\n",
      "Train accuracy: 0.969\n",
      "4450 80% (77m 56s) 0.0347 0.0943 si kaikkea syotavaa ja talletti sen kaupunkeihin.  / finnish ✓\n",
      "Train accuracy: 0.969\n",
      "4500 81% (78m 49s) 0.0507 0.1436 e de son heritage, a Thimnath-Serach, qui est dans / french ✓\n",
      "Train accuracy: 0.97\n",
      "4550 82% (79m 42s) 0.0226 0.0986  trage de multimea pestilor. Atunci ucenicul, pe c / romanian ✓\n",
      "Train accuracy: 0.9728\n",
      "4600 83% (80m 34s) 0.0333 0.2147 unga e haere tahi nei matou, e hemo ana hoki ratou / maori ✓\n",
      "Train accuracy: 0.9738\n",
      "4650 84% (81m 26s) 0.0308 0.1208 leyen kisidir. Ogul babasinin sucundan sorumlu tut / turkish ✓\n",
      "Train accuracy: 0.967\n",
      "4700 85% (82m 19s) 0.2039 0.0594 helomiti ngunyana kaYosifiya, enamadoda alikhulu e / xhosa ✓\n",
      "Train accuracy: 0.9678\n",
      "4750 86% (83m 12s) 0.1735 0.1757 uien mi fortaleza? Haga conmigo paz, si, haga paz  / italian ✗ (spanish)\n",
      "Train accuracy: 0.9712\n",
      "4800 87% (84m 4s) 0.0424 0.1541 t us shut the doors of the temple: for they will c / english ✓\n",
      "Train accuracy: 0.9692\n",
      "4850 88% (84m 57s) 0.0651 0.1889 och fortara dess tornen och dess tistlar, allt pa  / swedish ✓\n",
      "Train accuracy: 0.971\n",
      "4900 89% (85m 50s) 0.0597 0.1148  pecheurs d'hommes. Et eux, laissant aussitot leur / french ✓\n",
      "Train accuracy: 0.9718\n",
      "4950 90% (86m 42s) 0.0821 0.1839 ta ngoi tren ngai Duc Chua Troi, o giua cac bien;  / vietnamese ✓\n",
      "Train accuracy: 0.9716\n",
      "5000 90% (87m 35s) 0.1257 0.0781 at Moabiterne og ammoniterne sammen med Folk fra M / norwegian ✗ (danish)\n",
      "Train accuracy: 0.9694\n",
      "5050 91% (88m 28s) 0.1167 0.0481 nku onlar kilictan, yalin kilictan,<br />Gerilmis  / turkish ✓\n",
      "Train accuracy: 0.9716\n",
      "5100 92% (89m 21s) 0.0481 0.0963 adan cikin,<br />Murdara dokunmayin.<br />Oradan c / turkish ✓\n",
      "Train accuracy: 0.974\n",
      "5150 93% (90m 13s) 0.0958 0.1275 jt si te ishin nje send shume i vogel. Libani nuk  / albanian ✓\n",
      "Train accuracy: 0.9702\n",
      "5200 94% (91m 6s) 0.0854 0.0568 do cung duoc xem cong viec thay lam. Khi nao nguoi / vietnamese ✓\n",
      "Train accuracy: 0.9712\n",
      "5250 95% (91m 59s) 0.0680 0.0395 ecause of his uncleanness: and afterward he shall  / english ✓\n",
      "Train accuracy: 0.9734\n",
      "5300 96% (92m 52s) 0.1201 0.1584 aye iyimingxuma yodwa yebhitumene;  basaba ookumka / xhosa ✓\n",
      "Train accuracy: 0.975\n",
      "5350 97% (93m 45s) 0.0816 0.2950 ci uslyseli, ze synove presidlencu buduji chram Ho / czech ✓\n",
      "Train accuracy: 0.9666\n",
      "5400 98% (94m 37s) 0.0536 0.1130 uch that the dumb man spake and saw. And all the m / english ✓\n",
      "Train accuracy: 0.9748\n",
      "5450 99% (95m 30s) 0.0601 0.0784 nde. De gudlose lurer pa at laegge mig ode, dine V / danish ✓\n",
      "Train accuracy: 0.9656\n",
      "5500 100% (96m 22s) 0.1074 0.1121 la pastro lavu siajn vestojn kaj banu sian korpon  / esperanto ✓\n",
      "Train accuracy: 0.972\n"
     ]
    }
   ],
   "source": [
    "n_iters = 5500 #100000\n",
    "print_every = 50\n",
    "plot_every = 50\n",
    "\n",
    "\n",
    "# Keep track of losses for plotting\n",
    "current_loss = 0\n",
    "current_test_loss = 0\n",
    "all_losses = []\n",
    "all_test_losses = []\n",
    "\n",
    "start = time.time()\n",
    "\n",
    "optimizer = torch.optim.Adam(rnn.parameters(), lr=learning_rate)\n",
    "\n",
    "\n",
    "number_correct = 0\n",
    "for iter in range(1, n_iters + 1):\n",
    "    input_data, target_category, text_data = load_random_batch(train_category_data, chunk_len, BATCH_SIZE)\n",
    "    output, loss = train(rnn, target_category, input_data, optimizer, criterion)\n",
    "    current_loss += loss\n",
    "    input_test_data, target_test_category,_= load_random_batch(test_category_data, chunk_len, BATCH_SIZE)\n",
    "    _, test_loss = eval_test(rnn, target_test_category, input_test_data)\n",
    "    current_test_loss += test_loss\n",
    "    \n",
    "    guess_i = categoryFromOutput(output)\n",
    "    number_correct += (target_category.squeeze()==guess_i.squeeze()).long().sum()\n",
    "    \n",
    "    # Print iter number, loss, name and guess\n",
    "    if iter % print_every == 0:\n",
    "        sample_idx = 0\n",
    "        guess = all_categories[guess_i[sample_idx]]\n",
    "        \n",
    "        category = all_categories[int(target_category[sample_idx])]\n",
    "        \n",
    "        correct = '✓' if guess == category else '✗ (%s)' % category\n",
    "        print('%d %d%% (%s) %.4f %.4f %s / %s %s' % (iter, iter / n_iters * 100, time_since(start), loss, test_loss, text_data[sample_idx], guess, correct))\n",
    "        print('Train accuracy: {}'.format(float(number_correct)/float(print_every*BATCH_SIZE)))\n",
    "        number_correct = 0\n",
    "    \n",
    "    # Add current loss avg to list of losses\n",
    "    if iter % plot_every == 0:\n",
    "        all_losses.append(current_loss / plot_every)\n",
    "        current_loss = 0\n",
    "        all_test_losses.append(current_test_loss / plot_every)\n",
    "        current_test_loss = 0"
   ]
  },
  {
   "cell_type": "markdown",
   "metadata": {
    "colab_type": "text",
    "id": "4mBgPaF2xX6A"
   },
   "source": [
    "Plot loss functions\n",
    "--------------------\n",
    "\n"
   ]
  },
  {
   "cell_type": "code",
   "execution_count": 20,
   "metadata": {
    "colab": {
     "base_uri": "https://localhost:8080/",
     "height": 282
    },
    "colab_type": "code",
    "executionInfo": {
     "elapsed": 471,
     "status": "ok",
     "timestamp": 1543868161419,
     "user": {
      "displayName": "Kashish Kothari",
      "photoUrl": "",
      "userId": "05131196928554536929"
     },
     "user_tz": 360
    },
    "id": "2BLFyiwmxX6B",
    "outputId": "666e3ffc-eaff-46a2-c515-f9dd55586ffa",
    "scrolled": true
   },
   "outputs": [
    {
     "data": {
      "text/plain": [
       "[<matplotlib.lines.Line2D at 0x7fa986443c50>]"
      ]
     },
     "execution_count": 20,
     "metadata": {
      "tags": []
     },
     "output_type": "execute_result"
    },
    {
     "data": {
      "image/png": "[encoded data removed]",
      "text/plain": [
       "<matplotlib.figure.Figure at 0x7fa930359a90>"
      ]
     },
     "metadata": {
      "tags": []
     },
     "output_type": "display_data"
    }
   ],
   "source": [
    "import matplotlib.pyplot as plt\n",
    "import matplotlib.ticker as ticker\n",
    "\n",
    "plt.figure()\n",
    "plt.plot(all_losses, color='b')\n",
    "plt.plot(all_test_losses, color='r')"
   ]
  },
  {
   "cell_type": "markdown",
   "metadata": {
    "colab_type": "text",
    "id": "sPQctJu0xX6G"
   },
   "source": [
    "Evaluate results\n",
    "-------------------\n",
    "\n",
    "We now vizualize the performance of our model by creating a confusion matrix. The ground truth languages of samples are represented by rows in the matrix while the predicted languages are represented by columns.\n",
    "\n",
    "In this evaluation we consider sequences of variable sizes rather than the fixed length sequences we used for training."
   ]
  },
  {
   "cell_type": "code",
   "execution_count": 0,
   "metadata": {
    "colab": {
     "base_uri": "https://localhost:8080/",
     "height": 332
    },
    "colab_type": "code",
    "executionInfo": {
     "elapsed": 24473,
     "status": "ok",
     "timestamp": 1543635315416,
     "user": {
      "displayName": "Kashish Kothari",
      "photoUrl": "",
      "userId": "05131196928554536929"
     },
     "user_tz": 360
    },
    "id": "UDxuEsK-xX6J",
    "outputId": "bc250042-3039-4f54-ee18-2af8d624ade6"
   },
   "outputs": [
    {
     "name": "stdout",
     "output_type": "stream",
     "text": [
      "Test accuracy:  0.892\n"
     ]
    },
    {
     "data": {
      "image/png": "[encoded data removed]",
      "text/plain": [
       "<matplotlib.figure.Figure at 0x7f52eecf5b38>"
      ]
     },
     "metadata": {
      "tags": []
     },
     "output_type": "display_data"
    }
   ],
   "source": [
    "eval_batch_size = 1  # needs to be set to 1 for evaluating different sequence lengths\n",
    "\n",
    "# Keep track of correct guesses in a confusion matrix\n",
    "confusion = torch.zeros(n_languages, n_languages)\n",
    "n_confusion = 1000\n",
    "num_correct = 0\n",
    "total = 0\n",
    "\n",
    "for i in range(n_confusion):\n",
    "    eval_chunk_len = random.randint(10, 50) # in evaluation we will look at sequences of variable sizes\n",
    "    input_data, target_category, text_data = load_random_batch(test_category_data, chunk_len=eval_chunk_len, batch_size=eval_batch_size)\n",
    "    output = evaluate(rnn, input_data, seq_len=eval_chunk_len, batch_size=eval_batch_size)\n",
    "    \n",
    "    guess_i = categoryFromOutput(output)\n",
    "    category_i = [int(target_category[idx]) for idx in range(len(target_category))]\n",
    "    for j in range(eval_batch_size):\n",
    "        category = all_categories[category_i[j]] \n",
    "        confusion[category_i[j]][guess_i[j]] += 1\n",
    "        num_correct += int(guess_i[j]==category_i[j])\n",
    "        total += 1\n",
    "\n",
    "print('Test accuracy: ', float(num_correct)/float(n_confusion*eval_batch_size))\n",
    "\n",
    "# Normalize by dividing every row by its sum\n",
    "for i in range(n_languages):\n",
    "    confusion[i] = confusion[i] / confusion[i].sum()\n",
    "\n",
    "# Set up plot\n",
    "fig = plt.figure()\n",
    "ax = fig.add_subplot(111)\n",
    "cax = ax.matshow(confusion.numpy())\n",
    "fig.colorbar(cax)\n",
    "\n",
    "# Set up axes\n",
    "ax.set_xticklabels([''] + all_categories, rotation=90)\n",
    "ax.set_yticklabels([''] + all_categories)\n",
    "\n",
    "# Force label at every tick\n",
    "ax.xaxis.set_major_locator(ticker.MultipleLocator(1))\n",
    "ax.yaxis.set_major_locator(ticker.MultipleLocator(1))\n",
    "\n",
    "plt.show()"
   ]
  },
  {
   "cell_type": "markdown",
   "metadata": {
    "colab_type": "text",
    "id": "bme5rK6HxX6M"
   },
   "source": [
    "You can pick out bright spots off the main axis that show which\n",
    "languages it guesses incorrectly.\n",
    "\n",
    "\n"
   ]
  },
  {
   "cell_type": "markdown",
   "metadata": {
    "colab_type": "text",
    "id": "pDpz69mXxX6P"
   },
   "source": [
    "Run on User Input\n",
    "---------------------\n",
    "\n",
    "Now you can test your model on your own input. \n"
   ]
  },
  {
   "cell_type": "code",
   "execution_count": 0,
   "metadata": {
    "colab": {
     "base_uri": "https://localhost:8080/",
     "height": 145
    },
    "colab_type": "code",
    "executionInfo": {
     "elapsed": 238,
     "status": "ok",
     "timestamp": 1543635700321,
     "user": {
      "displayName": "Kashish Kothari",
      "photoUrl": "",
      "userId": "05131196928554536929"
     },
     "user_tz": 360
    },
    "id": "rME8W05JxX6Q",
    "outputId": "11309132-5cda-4ad4-c9d6-df1aeb4c0d40"
   },
   "outputs": [
    {
     "name": "stdout",
     "output_type": "stream",
     "text": [
      "\n",
      "> Ich sehe ihn nicht.\n",
      "(10.82) german\n",
      "(4.61) french\n",
      "(2.91) english\n",
      "(1.05) czech\n",
      "(0.75) danish\n"
     ]
    }
   ],
   "source": [
    "def predict(input_line, n_predictions=5):\n",
    "    print('\\n> %s' % input_line)\n",
    "    with torch.no_grad():\n",
    "        input_data = stringToTensor(input_line).long().unsqueeze(0).to(device)\n",
    "        output = evaluate(rnn, input_data, seq_len=len(input_line), batch_size=1)\n",
    "\n",
    "    # Get top N categories\n",
    "    topv, topi = output.topk(n_predictions, dim=1)\n",
    "    predictions = []\n",
    "\n",
    "    for i in range(n_predictions):\n",
    "        topv.shape\n",
    "        topi.shape\n",
    "        value = topv[0][i].item()\n",
    "        category_index = topi[0][i].item()\n",
    "        print('(%.2f) %s' % (value, all_categories[category_index]))\n",
    "        predictions.append([value, all_categories[category_index]])\n",
    "\n",
    "predict('Ich sehe ihn nicht.')"
   ]
  },
  {
   "cell_type": "markdown",
   "metadata": {
    "colab_type": "text",
    "id": "Ej4oOOLOxX6Y"
   },
   "source": [
    "# Output Kaggle submission file\n",
    "\n",
    "Once you have found a good set of hyperparameters submit the output of your model on the Kaggle test file."
   ]
  },
  {
   "cell_type": "code",
   "execution_count": 0,
   "metadata": {
    "colab": {},
    "colab_type": "code",
    "collapsed": true,
    "id": "3wdPURjfxX6b"
   },
   "outputs": [],
   "source": [
    "### DO NOT CHANGE KAGGLE SUBMISSION CODE ####\n",
    "import csv\n",
    "\n",
    "kaggle_test_file_path = 'language_data/kaggle_rnn_language_classification_test.txt'\n",
    "with open(kaggle_test_file_path, 'r') as f:\n",
    "    lines = f.readlines()\n",
    "\n",
    "output_rows = []\n",
    "for i, line in enumerate(lines):\n",
    "    sample = line.rstrip()\n",
    "    sample_chunk_len = len(sample)\n",
    "    input_data = stringToTensor(sample).unsqueeze(0)\n",
    "    output = evaluate(rnn, input_data, seq_len=sample_chunk_len, batch_size=1)\n",
    "    guess_i = categoryFromOutput(output)\n",
    "    output_rows.append((str(i+1), all_categories[guess_i]))\n",
    "\n",
    "submission_file_path = 'kaggle_rnn_submission.txt'\n",
    "with open(submission_file_path, 'w') as f:\n",
    "    output_rows = [('id', 'category')] + output_rows\n",
    "    writer = csv.writer(f)\n",
    "    writer.writerows(output_rows)\n"
   ]
  },
  {
   "cell_type": "code",
   "execution_count": 0,
   "metadata": {
    "colab": {},
    "colab_type": "code",
    "collapsed": true,
    "id": "0GLBsVxVxX6h"
   },
   "outputs": [],
   "source": [
    "torch.save(rnn.state_dict(), './rnn_generator.pth')"
   ]
  },
  {
   "cell_type": "code",
   "execution_count": 0,
   "metadata": {
    "colab": {},
    "colab_type": "code",
    "collapsed": true,
    "id": "mzffuI1LtVzd"
   },
   "outputs": [],
   "source": [
    "rnn.load_state_dict(torch.load('./rnn_generator.pth'))"
   ]
  }
 ],
 "metadata": {
  "colab": {
   "collapsed_sections": [],
   "name": "MP4_P2_classification.ipynb",
   "provenance": [],
   "version": "0.3.2"
  },
  "kernelspec": {
   "display_name": "Python 3",
   "language": "python",
   "name": "python3"
  },
  "language_info": {
   "codemirror_mode": {
    "name": "ipython",
    "version": 3
   },
   "file_extension": ".py",
   "mimetype": "text/x-python",
   "name": "python",
   "nbconvert_exporter": "python",
   "pygments_lexer": "ipython3",
   "version": "3.6.3"
  }
 },
 "nbformat": 4,
 "nbformat_minor": 1
}
